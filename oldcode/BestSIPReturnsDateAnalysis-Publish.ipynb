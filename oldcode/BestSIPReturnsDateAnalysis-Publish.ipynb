{
 "cells": [
  {
   "cell_type": "markdown",
   "metadata": {},
   "source": [
    "# Best SIP Date with Highest Returns\n",
    "\n",
    "This is a simple analysis to find out which SIP date had yielded highest returns for Parag Parikh Long Term Equity Fund - Direct Plan - Growth. The standard SIP dates considered are 1st, 5th, 10th, 15th, 20th and 25th of calendar month. The following analysis is illustrated using python programming language. If you are not a programmer, still could read this analysis by simply skipping the awkward looking text inside grey colored boxes which software engineers call it as code. You can download the dataset from this link https://drive.google.com/file/d/148DVNZ2_q2xOhrSbagPdy4N8li-QPPfg/view?usp=sharing"
   ]
  },
  {
   "cell_type": "markdown",
   "metadata": {},
   "source": [
    "## Load Dependencies"
   ]
  },
  {
   "cell_type": "code",
   "execution_count": 1,
   "metadata": {},
   "outputs": [],
   "source": [
    "import pandas as pd\n",
    "import numpy as np\n",
    "import matplotlib.pyplot as plt\n",
    "%matplotlib inline\n",
    "from babel.numbers import format_currency\n",
    "from datetime import datetime\n",
    "from IPython.display import display, HTML"
   ]
  },
  {
   "cell_type": "markdown",
   "metadata": {},
   "source": [
    "## Initial Setup"
   ]
  },
  {
   "cell_type": "markdown",
   "metadata": {},
   "source": [
    "The following is the initial setup made for the analysis.\n",
    "    \n",
    "* An SIP amount of ₹10,000\n",
    "\n",
    "* Standard SIP dates considered are 1st, 5th, 10th, 15th, 20th and 25th of a calendar month\n",
    "\n",
    "* Number of years to calculate retruns for. *Maximum number of years to which the returns can be calculated is limited back to the year 1993. Because, the Private sector mutual funds started in the year 1993.*\n",
    "* Scheme: *Parag Parikh Long Term Equity Fund - Direct Plan - Growth*\n",
    "* Scheme Code: 122639"
   ]
  },
  {
   "cell_type": "code",
   "execution_count": 2,
   "metadata": {},
   "outputs": [],
   "source": [
    "sip=10000\n",
    "standardSIPDates = [1,5,10,15,20,25]\n",
    "maxYears = datetime.now().year - 1993 # private sector mutual funds in India started in the year 1993\n",
    "years = [1, 3, 5, maxYears]\n",
    "\n",
    "schemeName='Parag Parikh Long Term Equity Fund - Direct Plan - Growth'\n",
    "schemeCode = 122639"
   ]
  },
  {
   "cell_type": "markdown",
   "metadata": {},
   "source": [
    "## Load Data\n",
    "Load the data into a pandas data frame"
   ]
  },
  {
   "cell_type": "code",
   "execution_count": 3,
   "metadata": {},
   "outputs": [],
   "source": [
    "def loadData(filepath):\n",
    "    df = pd.read_csv(filepath)\n",
    "    return df"
   ]
  },
  {
   "cell_type": "markdown",
   "metadata": {},
   "source": [
    "## Data wrangling\n",
    "### Handling Missing NAV\n",
    "As the NAV is not available on weekends and holidays, the back fill approach is follwed. This means, the NAVs for weekends are back filled with that of succeeding Monday's NAVs. Other missing days' Nav such as holidays are filled with NAV of the next available day.\n",
    "\n",
    "By default all the data loaded into a pandas dataframe will be in string format. To smoothen the data access and analysis easier, cast the 'Date' column to DateTime and 'Net Asset Value' column to float.\n",
    "\n",
    "Also, control the range of NAVs to be processed by a numeric variable 'yearsToConsider'. This is to calculate the seperate of highest SIP returns yielding date for tenures of 1 year, 3 years, 5 years and so on. For example, set yearsToConsider value to 3 to know the best SIP date that had yielded the highest returns if the SIP had been initiated back 3 years from today (or from latest available NAV date in the dataset)."
   ]
  },
  {
   "cell_type": "code",
   "execution_count": 4,
   "metadata": {},
   "outputs": [],
   "source": [
    "def preprocessing(df, schemeCode, yearsToConsider):\n",
    "    df['Date'] =  pd.to_datetime(df['Date'], format='%d-%b-%Y')\n",
    "    df['Net Asset Value'] = pd.to_numeric(df['Net Asset Value'], errors='coerce')\n",
    "    df1 = df[df['Scheme Code']==schemeCode][['Net Asset Value','Date']]\n",
    "    #fill navs on weekends with the monday's nav. Other missing days' Nav such as holidays will be filled with the nav for the next available date\n",
    "    df1 = df1.set_index('Date').asfreq('d', method='bfill')\n",
    "    df1 = df1[df1.index.max()-np.timedelta64(yearsToConsider,'Y'):df1.index.max()]\n",
    "    return df1"
   ]
  },
  {
   "cell_type": "code",
   "execution_count": 5,
   "metadata": {},
   "outputs": [],
   "source": [
    "#Absolute Return\n",
    "def AbsReturn(L,F):\n",
    "    absRet = round(100*(L-F)/F, 3)\n",
    "    return absRet"
   ]
  },
  {
   "cell_type": "code",
   "execution_count": 6,
   "metadata": {},
   "outputs": [],
   "source": [
    "#Simple Annualised Return\n",
    "def SAR(L,F,Terms):\n",
    "    absRet = round((AbsReturn(L,F)/100), 3)\n",
    "    noOfDays = Terms * 30\n",
    "    sar = ((1+ absRet) ** (365/ noOfDays)) - 1\n",
    "    return round(sar, 3) * 100"
   ]
  },
  {
   "cell_type": "markdown",
   "metadata": {},
   "source": [
    "## Basic SIP Calculation Methods\n",
    "The returns by date invested in sip are calculated for each calendar date starting from 1 to 30. Calculation for Date 31 is excluded for brevity.\n",
    "### SIP Amount Consideration\n",
    "For an SIP payment, consider the fixed amount for each term, lets say ₹5,000. However, changing this amount will not affect the calculation of returns for a given mutual fund data.\n",
    "\n",
    "### Calculation of Units Alloted per SIP Term\n",
    "The units alloted per SIP term is the ratio of SIP amount to the NAV of mutual fund on the date of allotment.\n",
    "> unitsForCurrTerm = round(sip/nav, 4)\n",
    "\n",
    "*As per the SEBI guidelines, The mutual fund units alloted are calculated upto 4 decimals places.*\n",
    "\n",
    "### Total number of units alloted for SIP till date\n",
    "The total units alloted for a particular SIP date is the sum of units alloted across all the SIP terms falling in the duration of years considered.\n",
    ">totalUnits = round(totalUnits + unitsForCurrTerm,4)\n",
    "\n",
    "### Total Amount Invested in SIP till date\n",
    "The total amount invested in SIP till date is just the product of SIP amount and number of terms SIP is paid.\n",
    ">amtInvested = round(terms * sip, 3)\n",
    "\n",
    "### Absolute Returns\n",
    "Absolute returns is calculated by the product of the Total number of units and latest NAV of the mutual fund.\n",
    ">returns = round(totalUnits * latestNav, 3)\n",
    "\n",
    "*As per the SEBI guidelines, the mutual fund redemption amount will be calculate up to 3 decimal places.*\n",
    "\n",
    "### Average NAV across all SIP payments\n",
    "The average NAV across all SIP payments for a mutual fund is the ratio of total amount invested to the total number of units alloted till date.\n",
    ">avgNav = round(amtInvested / totalUnits, 4)\n",
    "\n",
    "### Absolute Returns Percentage Calculation\n",
    "In case of SIP, the absolute returns percentage is calculated as the percentage change between the Average NAV and the Latest NAV.\n",
    ">absReturn = round(100*(latestNav-avgNav)/avgNav, 3)\n",
    "\n",
    "### Terms\n",
    "Terms is the total count of SIP payments made in the duration of years selected. As we are calculating the returns for same date of each month, the term count in this analysis is referred as the number of months the SIP was invested.\n",
    "\n",
    "## Best SIP Date calculation approach\n",
    "For each calendar date falling in the duration of years considered, the units alloted to the investor are calculated by dividing the SIP amount by the nav of that particular date. Likewise, the total units alloted for a particular SIP date is the sum of units alloted across all the SIP terms falling in the duration of years considered. \n",
    "\n",
    "Now, calculate the total amount invested, absolute returns, average NAV and absolute returns percentage as per the basic SIP calculation methods mentioned above. Now you will have all these metrics for SIP dates 1 to 30. Filter the results based on the the standard SIP dates defined. Filtering could be made optional if you are interested in looking across all the calendar dates 1 through 30. Notice the higest return yielding SIP date by sorting the absolute returns percentage in the descending order.\n",
    "\n",
    "### Example\n",
    "Consider a calendar date say 3rd of every month. Suppose 3 year duration is considered. Add up the units alloted to the mutual fund investor for 3rd date of every month (weekends, holidays falling on 3rd will have back filled NAV). Repeat this for all the calendar days 1 to 30. Now consider the standard sip dates defined and look at the highest return yielding SIP date among 1, 5, 10, 15, 20 and 25."
   ]
  },
  {
   "cell_type": "code",
   "execution_count": 7,
   "metadata": {},
   "outputs": [],
   "source": [
    "def ReturnsByDateInvestedInSIP(data, sip=5000, filterStandardSIPDates = True):\n",
    "    latestNav = data.loc[data.index == data.index.max(),'Net Asset Value'].iloc[0]\n",
    "    firstNav = data.loc[data.index == data.index.min(),'Net Asset Value'].iloc[0]\n",
    "    #for dates 1 through 30 collect units allotted and returns gained\n",
    "    sipdate_units = []\n",
    "    for day in range(1,31):\n",
    "        totalUnits = 0\n",
    "        dfvar = data[data.index.day == day]\n",
    "        terms = dfvar.shape[0]\n",
    "        for nav in dfvar['Net Asset Value']:\n",
    "            unitsForCurrTerm = round(sip/nav, 4)\n",
    "            totalUnits = round(totalUnits + unitsForCurrTerm,4)\n",
    "        amtInvested = round(terms * sip, 3)\n",
    "        returns = round(totalUnits * latestNav, 3)\n",
    "        avgNav = round(amtInvested / totalUnits, 4)\n",
    "        #absReturn = AbsReturn(returns,amtInvested)\n",
    "        absReturn = AbsReturn(latestNav,avgNav)\n",
    "        \n",
    "        sipdate_units.append({'SIP Date': day,\n",
    "                              'Average Nav': avgNav,\n",
    "                              'Units': totalUnits,\n",
    "                              'Terms': terms, \n",
    "                              'Amt Invested': amtInvested,\n",
    "                              'Absolute Returns': returns,\n",
    "                              'Absolute Returns %': absReturn}) \n",
    "    rets = pd.DataFrame(sipdate_units, columns=('SIP Date','Average Nav','Units', 'Terms', 'Amt Invested', 'Absolute Returns', 'Absolute Returns %'))\n",
    "    rets.index += 1 # some novice pandas expertiese ^_^\n",
    "    if filterStandardSIPDates:\n",
    "        rets = rets[rets['SIP Date'].isin(standardSIPDates)]\n",
    "        \n",
    "    return rets.sort_values('Absolute Returns %',ascending =False)"
   ]
  },
  {
   "cell_type": "markdown",
   "metadata": {},
   "source": [
    "## Data Visualisation\n",
    "The histogram shows SIP dates on X-axis and corresponding returns on Y axis."
   ]
  },
  {
   "cell_type": "code",
   "execution_count": 8,
   "metadata": {},
   "outputs": [],
   "source": [
    "def ShowPlot(d, toDate, fromDate):\n",
    "    best = d[d['Absolute Returns %']==d['Absolute Returns %'].max()]\n",
    "    bestSIPDate = best['SIP Date'].iloc[0]\n",
    "    bestReturn = best['Absolute Returns %'].iloc[0]\n",
    "    yearsObserved = round(d['Terms'].iloc[0]/12, 2)\n",
    "    yearsObserved= \"{0}\".format(str(yearsObserved if yearsObserved % 1 else int(yearsObserved)))\n",
    "    plt.figure(num=None, figsize=(10, 6), dpi=150)\n",
    "    plt.hist(d['SIP Date'], weights=d['Absolute Returns %'], facecolor= 'r' if d['Absolute Returns %'].mean() < 0 else 'g', bins = 25)\n",
    "    plt.xlabel('SIP Date')\n",
    "    plt.ylabel('Absolute Returns %')\n",
    "    plt.title(schemeName)\n",
    "    legend1 = 'Best SIP Date: {} \\nYear(s) Observed: {} years \\nAbsolute returns: {}%\\n'\n",
    "    legend2 = 'Dates Considered\\nFrom: {} \\nTo: {}\\n'\n",
    "    if d['Absolute Returns %'].mean() < 0 :\n",
    "        plt.text(0, .07, legend1.format(bestSIPDate, yearsObserved, bestReturn), fontsize=9)\n",
    "        plt.text(21, .07, legend2.format(fromDate,toDate), fontsize=9)\n",
    "    elif any(x < 0 for x in d['Absolute Returns %']) and any(x>0 for x in d['Absolute Returns %']):\n",
    "        plt.text(1, .003, legend1.format(bestSIPDate, yearsObserved, bestReturn), fontsize=9)\n",
    "        plt.text(20.5, .003, legend2.format(fromDate,toDate), fontsize=9)\n",
    "    else:\n",
    "        plt.text(1, 2, legend1.format(bestSIPDate, yearsObserved, bestReturn), fontsize=9)\n",
    "        plt.text(20.5, 2, legend2.format(fromDate,toDate), fontsize=9)\n",
    "    \n",
    "    plt.annotate('The past {} year(s) of observations indicate that, having SIP date set to {} of every month would have given the highest absolute \\nreturns of {}%'.format(yearsObserved,bestSIPDate,bestReturn),\n",
    "                 (0,0), (0, -35), \n",
    "                 xycoords='axes fraction', \n",
    "                 textcoords='offset points', va='top')\n",
    "    plt.annotate('www.MFRepublic.com', (0,0), (250, 150), \n",
    "             xycoords='axes fraction',fontsize=20,\n",
    "             textcoords='offset points', ha='center', va='bottom', alpha = 0.25)\n",
    "    plt.show()\n",
    "    plt.close()"
   ]
  },
  {
   "cell_type": "code",
   "execution_count": 9,
   "metadata": {
    "scrolled": true
   },
   "outputs": [],
   "source": [
    "def init(isFilterStandardSIPDates):\n",
    "    df = loadData('data.txt')\n",
    "    returnsByYear={}\n",
    "    for yr in years:\n",
    "        df1 = preprocessing(df, schemeCode,yr)\n",
    "        latestNav = df1.loc[df1.index == df1.index.max(),'Net Asset Value'].iloc[0]\n",
    "        firstNav = df1.loc[df1.index == df1.index.min(),'Net Asset Value'].iloc[0]\n",
    "        fromDate = df1.index.min().strftime('%d-%b-%Y')\n",
    "        toDate = df1.index.max().strftime('%d-%b-%Y')\n",
    "        d = ReturnsByDateInvestedInSIP(df1,sip,isFilterStandardSIPDates)\n",
    "        returnsByYear[yr] = d\n",
    "        #best\n",
    "        best = d[d['Absolute Returns %']==d['Absolute Returns %'].max()]\n",
    "        bestSIPDate = best['SIP Date'].iloc[0]\n",
    "        bestReturn = best['Absolute Returns %'].iloc[0]\n",
    "        absReturnsValue = best['Absolute Returns'].iloc[0]\n",
    "        yearsObserved = round(d['Terms'].iloc[0]/12, 2)\n",
    "        yearsObserved= \"{0}\".format(str(yearsObserved if yearsObserved % 1 else int(yearsObserved)))\n",
    "        legend1 = 'Scheme: {}<br>Scheme Code: {}<br>Best SIP Date: {} <br>Years Observed: {} year(s) <br>Absolute returns: {}%<br>'.format(schemeName, schemeCode, bestSIPDate, yearsObserved, bestReturn)\n",
    "        legend2 = 'Dates Considered<br>From: {} <br>To: {}<br>'.format(fromDate,toDate)\n",
    "        allOrStandardDates = '1st, 5th, 10th, 15th, 20th and 25th' if isFilterStandardSIPDates else 'all the 30'\n",
    "        \n",
    "        display(HTML('<h3>Returns for {} calendar dates if the SIP was started {} year(s) ago.<h3>'.format(allOrStandardDates, yearsObserved)))\n",
    "        #Show plot\n",
    "        if isFilterStandardSIPDates:\n",
    "            ShowPlot(d, toDate, fromDate)\n",
    "            \n",
    "        display(HTML(legend1))\n",
    "        display(HTML(legend2))\n",
    "        display(HTML(d.to_html(index=False)))\n",
    "        display(HTML('<p>The past {} years of observations indicate that, having SIP date set to {} of every month would have given the highest absolute \\nreturns of {}%</p>'.format(yearsObserved,bestSIPDate,bestReturn)))\n",
    "        display(HTML('<p>An SIP of {} scheduled {} year(s) ago on every month\\'s {} would have become {} now.</p>'.format(\n",
    "            format_currency(sip, 'INR', locale = 'en_IN'),\n",
    "            yearsObserved,\n",
    "            bestSIPDate,\n",
    "            format_currency(absReturnsValue, 'INR', locale = 'en_IN'))))\n",
    "        "
   ]
  },
  {
   "cell_type": "code",
   "execution_count": 11,
   "metadata": {
    "scrolled": false
   },
   "outputs": [
    {
     "data": {
      "text/html": [
       "<h2>Full Report<h2>"
      ],
      "text/plain": [
       "<IPython.core.display.HTML object>"
      ]
     },
     "metadata": {},
     "output_type": "display_data"
    },
    {
     "data": {
      "text/html": [
       "<h3>Returns for 1st, 5th, 10th, 15th, 20th and 25th calendar dates if the SIP was started 1 year(s) ago.<h3>"
      ],
      "text/plain": [
       "<IPython.core.display.HTML object>"
      ]
     },
     "metadata": {},
     "output_type": "display_data"
    },
    {
     "data": {
      "image/png": "[encoded data removed]",
      "text/plain": [
       "<Figure size 1500x900 with 1 Axes>"
      ]
     },
     "metadata": {},
     "output_type": "display_data"
    },
    {
     "data": {
      "text/html": [
       "Scheme: Parag Parikh Long Term Equity Fund - Direct Plan - Growth<br>Scheme Code: 122639<br>Best SIP Date: 5 <br>Years Observed: 1 year(s) <br>Absolute returns: -3.043%<br>"
      ],
      "text/plain": [
       "<IPython.core.display.HTML object>"
      ]
     },
     "metadata": {},
     "output_type": "display_data"
    },
    {
     "data": {
      "text/html": [
       "Dates Considered<br>From: 14-Nov-2017 <br>To: 14-Nov-2018<br>"
      ],
      "text/plain": [
       "<IPython.core.display.HTML object>"
      ]
     },
     "metadata": {},
     "output_type": "display_data"
    },
    {
     "data": {
      "text/html": [
       "<table border=\"1\" class=\"dataframe\">\n",
       "  <thead>\n",
       "    <tr style=\"text-align: right;\">\n",
       "      <th>SIP Date</th>\n",
       "      <th>Average Nav</th>\n",
       "      <th>Units</th>\n",
       "      <th>Terms</th>\n",
       "      <th>Amt Invested</th>\n",
       "      <th>Absolute Returns</th>\n",
       "      <th>Absolute Returns %</th>\n",
       "    </tr>\n",
       "  </thead>\n",
       "  <tbody>\n",
       "    <tr>\n",
       "      <td>5</td>\n",
       "      <td>24.2609</td>\n",
       "      <td>4946.2375</td>\n",
       "      <td>12</td>\n",
       "      <td>120000</td>\n",
       "      <td>116348.861</td>\n",
       "      <td>-3.043</td>\n",
       "    </tr>\n",
       "    <tr>\n",
       "      <td>1</td>\n",
       "      <td>24.3501</td>\n",
       "      <td>4928.1059</td>\n",
       "      <td>12</td>\n",
       "      <td>120000</td>\n",
       "      <td>115922.357</td>\n",
       "      <td>-3.398</td>\n",
       "    </tr>\n",
       "    <tr>\n",
       "      <td>20</td>\n",
       "      <td>24.3650</td>\n",
       "      <td>4925.0911</td>\n",
       "      <td>12</td>\n",
       "      <td>120000</td>\n",
       "      <td>115851.440</td>\n",
       "      <td>-3.457</td>\n",
       "    </tr>\n",
       "    <tr>\n",
       "      <td>25</td>\n",
       "      <td>24.3878</td>\n",
       "      <td>4920.4891</td>\n",
       "      <td>12</td>\n",
       "      <td>120000</td>\n",
       "      <td>115743.189</td>\n",
       "      <td>-3.547</td>\n",
       "    </tr>\n",
       "    <tr>\n",
       "      <td>10</td>\n",
       "      <td>24.3980</td>\n",
       "      <td>4918.4349</td>\n",
       "      <td>12</td>\n",
       "      <td>120000</td>\n",
       "      <td>115694.869</td>\n",
       "      <td>-3.588</td>\n",
       "    </tr>\n",
       "    <tr>\n",
       "      <td>15</td>\n",
       "      <td>24.4073</td>\n",
       "      <td>4916.5670</td>\n",
       "      <td>12</td>\n",
       "      <td>120000</td>\n",
       "      <td>115650.931</td>\n",
       "      <td>-3.624</td>\n",
       "    </tr>\n",
       "  </tbody>\n",
       "</table>"
      ],
      "text/plain": [
       "<IPython.core.display.HTML object>"
      ]
     },
     "metadata": {},
     "output_type": "display_data"
    },
    {
     "data": {
      "text/html": [
       "<p>The past 1 years of observations indicate that, having SIP date set to 5 of every month would have given the highest absolute \n",
       "returns of -3.043%</p>"
      ],
      "text/plain": [
       "<IPython.core.display.HTML object>"
      ]
     },
     "metadata": {},
     "output_type": "display_data"
    },
    {
     "data": {
      "text/html": [
       "<p>An SIP of ₹ 10,000.00 scheduled 1 year(s) ago on every month's 5 would have become ₹ 1,16,348.86 now.</p>"
      ],
      "text/plain": [
       "<IPython.core.display.HTML object>"
      ]
     },
     "metadata": {},
     "output_type": "display_data"
    },
    {
     "data": {
      "text/html": [
       "<h3>Returns for 1st, 5th, 10th, 15th, 20th and 25th calendar dates if the SIP was started 3 year(s) ago.<h3>"
      ],
      "text/plain": [
       "<IPython.core.display.HTML object>"
      ]
     },
     "metadata": {},
     "output_type": "display_data"
    },
    {
     "data": {
      "image/png": "[encoded data removed]",
      "text/plain": [
       "<Figure size 1500x900 with 1 Axes>"
      ]
     },
     "metadata": {},
     "output_type": "display_data"
    },
    {
     "data": {
      "text/html": [
       "Scheme: Parag Parikh Long Term Equity Fund - Direct Plan - Growth<br>Scheme Code: 122639<br>Best SIP Date: 15 <br>Years Observed: 3 year(s) <br>Absolute returns: 15.873%<br>"
      ],
      "text/plain": [
       "<IPython.core.display.HTML object>"
      ]
     },
     "metadata": {},
     "output_type": "display_data"
    },
    {
     "data": {
      "text/html": [
       "Dates Considered<br>From: 15-Nov-2015 <br>To: 14-Nov-2018<br>"
      ],
      "text/plain": [
       "<IPython.core.display.HTML object>"
      ]
     },
     "metadata": {},
     "output_type": "display_data"
    },
    {
     "data": {
      "text/html": [
       "<table border=\"1\" class=\"dataframe\">\n",
       "  <thead>\n",
       "    <tr style=\"text-align: right;\">\n",
       "      <th>SIP Date</th>\n",
       "      <th>Average Nav</th>\n",
       "      <th>Units</th>\n",
       "      <th>Terms</th>\n",
       "      <th>Amt Invested</th>\n",
       "      <th>Absolute Returns</th>\n",
       "      <th>Absolute Returns %</th>\n",
       "    </tr>\n",
       "  </thead>\n",
       "  <tbody>\n",
       "    <tr>\n",
       "      <td>15</td>\n",
       "      <td>20.3004</td>\n",
       "      <td>17733.6552</td>\n",
       "      <td>36</td>\n",
       "      <td>360000</td>\n",
       "      <td>417143.451</td>\n",
       "      <td>15.873</td>\n",
       "    </tr>\n",
       "    <tr>\n",
       "      <td>20</td>\n",
       "      <td>20.3095</td>\n",
       "      <td>17725.6874</td>\n",
       "      <td>36</td>\n",
       "      <td>360000</td>\n",
       "      <td>416956.027</td>\n",
       "      <td>15.821</td>\n",
       "    </tr>\n",
       "    <tr>\n",
       "      <td>25</td>\n",
       "      <td>20.3580</td>\n",
       "      <td>17683.4806</td>\n",
       "      <td>36</td>\n",
       "      <td>360000</td>\n",
       "      <td>415963.209</td>\n",
       "      <td>15.545</td>\n",
       "    </tr>\n",
       "    <tr>\n",
       "      <td>5</td>\n",
       "      <td>20.4488</td>\n",
       "      <td>17604.9779</td>\n",
       "      <td>36</td>\n",
       "      <td>360000</td>\n",
       "      <td>414116.614</td>\n",
       "      <td>15.032</td>\n",
       "    </tr>\n",
       "    <tr>\n",
       "      <td>1</td>\n",
       "      <td>20.4659</td>\n",
       "      <td>17590.2562</td>\n",
       "      <td>36</td>\n",
       "      <td>360000</td>\n",
       "      <td>413770.320</td>\n",
       "      <td>14.936</td>\n",
       "    </tr>\n",
       "    <tr>\n",
       "      <td>10</td>\n",
       "      <td>20.4762</td>\n",
       "      <td>17581.4081</td>\n",
       "      <td>36</td>\n",
       "      <td>360000</td>\n",
       "      <td>413562.188</td>\n",
       "      <td>14.878</td>\n",
       "    </tr>\n",
       "  </tbody>\n",
       "</table>"
      ],
      "text/plain": [
       "<IPython.core.display.HTML object>"
      ]
     },
     "metadata": {},
     "output_type": "display_data"
    },
    {
     "data": {
      "text/html": [
       "<p>The past 3 years of observations indicate that, having SIP date set to 15 of every month would have given the highest absolute \n",
       "returns of 15.873%</p>"
      ],
      "text/plain": [
       "<IPython.core.display.HTML object>"
      ]
     },
     "metadata": {},
     "output_type": "display_data"
    },
    {
     "data": {
      "text/html": [
       "<p>An SIP of ₹ 10,000.00 scheduled 3 year(s) ago on every month's 15 would have become ₹ 4,17,143.45 now.</p>"
      ],
      "text/plain": [
       "<IPython.core.display.HTML object>"
      ]
     },
     "metadata": {},
     "output_type": "display_data"
    },
    {
     "data": {
      "text/html": [
       "<h3>Returns for 1st, 5th, 10th, 15th, 20th and 25th calendar dates if the SIP was started 5 year(s) ago.<h3>"
      ],
      "text/plain": [
       "<IPython.core.display.HTML object>"
      ]
     },
     "metadata": {},
     "output_type": "display_data"
    },
    {
     "data": {
      "image/png": "[encoded data removed]",
      "text/plain": [
       "<Figure size 1500x900 with 1 Axes>"
      ]
     },
     "metadata": {},
     "output_type": "display_data"
    },
    {
     "data": {
      "text/html": [
       "Scheme: Parag Parikh Long Term Equity Fund - Direct Plan - Growth<br>Scheme Code: 122639<br>Best SIP Date: 15 <br>Years Observed: 5 year(s) <br>Absolute returns: 36.018%<br>"
      ],
      "text/plain": [
       "<IPython.core.display.HTML object>"
      ]
     },
     "metadata": {},
     "output_type": "display_data"
    },
    {
     "data": {
      "text/html": [
       "Dates Considered<br>From: 14-Nov-2013 <br>To: 14-Nov-2018<br>"
      ],
      "text/plain": [
       "<IPython.core.display.HTML object>"
      ]
     },
     "metadata": {},
     "output_type": "display_data"
    },
    {
     "data": {
      "text/html": [
       "<table border=\"1\" class=\"dataframe\">\n",
       "  <thead>\n",
       "    <tr style=\"text-align: right;\">\n",
       "      <th>SIP Date</th>\n",
       "      <th>Average Nav</th>\n",
       "      <th>Units</th>\n",
       "      <th>Terms</th>\n",
       "      <th>Amt Invested</th>\n",
       "      <th>Absolute Returns</th>\n",
       "      <th>Absolute Returns %</th>\n",
       "    </tr>\n",
       "  </thead>\n",
       "  <tbody>\n",
       "    <tr>\n",
       "      <td>15</td>\n",
       "      <td>17.2938</td>\n",
       "      <td>34694.5765</td>\n",
       "      <td>60</td>\n",
       "      <td>600000</td>\n",
       "      <td>816110.115</td>\n",
       "      <td>36.018</td>\n",
       "    </tr>\n",
       "    <tr>\n",
       "      <td>25</td>\n",
       "      <td>17.3863</td>\n",
       "      <td>34509.8485</td>\n",
       "      <td>60</td>\n",
       "      <td>600000</td>\n",
       "      <td>811764.813</td>\n",
       "      <td>35.294</td>\n",
       "    </tr>\n",
       "    <tr>\n",
       "      <td>20</td>\n",
       "      <td>17.3870</td>\n",
       "      <td>34508.4968</td>\n",
       "      <td>60</td>\n",
       "      <td>600000</td>\n",
       "      <td>811733.018</td>\n",
       "      <td>35.289</td>\n",
       "    </tr>\n",
       "    <tr>\n",
       "      <td>1</td>\n",
       "      <td>17.5164</td>\n",
       "      <td>34253.6131</td>\n",
       "      <td>60</td>\n",
       "      <td>600000</td>\n",
       "      <td>805737.465</td>\n",
       "      <td>34.290</td>\n",
       "    </tr>\n",
       "    <tr>\n",
       "      <td>5</td>\n",
       "      <td>17.5291</td>\n",
       "      <td>34228.8013</td>\n",
       "      <td>60</td>\n",
       "      <td>600000</td>\n",
       "      <td>805153.824</td>\n",
       "      <td>34.192</td>\n",
       "    </tr>\n",
       "    <tr>\n",
       "      <td>10</td>\n",
       "      <td>17.5447</td>\n",
       "      <td>34198.2868</td>\n",
       "      <td>60</td>\n",
       "      <td>600000</td>\n",
       "      <td>804436.041</td>\n",
       "      <td>34.073</td>\n",
       "    </tr>\n",
       "  </tbody>\n",
       "</table>"
      ],
      "text/plain": [
       "<IPython.core.display.HTML object>"
      ]
     },
     "metadata": {},
     "output_type": "display_data"
    },
    {
     "data": {
      "text/html": [
       "<p>The past 5 years of observations indicate that, having SIP date set to 15 of every month would have given the highest absolute \n",
       "returns of 36.018%</p>"
      ],
      "text/plain": [
       "<IPython.core.display.HTML object>"
      ]
     },
     "metadata": {},
     "output_type": "display_data"
    },
    {
     "data": {
      "text/html": [
       "<p>An SIP of ₹ 10,000.00 scheduled 5 year(s) ago on every month's 15 would have become ₹ 8,16,110.12 now.</p>"
      ],
      "text/plain": [
       "<IPython.core.display.HTML object>"
      ]
     },
     "metadata": {},
     "output_type": "display_data"
    },
    {
     "data": {
      "text/html": [
       "<h3>Returns for 1st, 5th, 10th, 15th, 20th and 25th calendar dates if the SIP was started 5.42 year(s) ago.<h3>"
      ],
      "text/plain": [
       "<IPython.core.display.HTML object>"
      ]
     },
     "metadata": {},
     "output_type": "display_data"
    },
    {
     "data": {
      "image/png": "[encoded data removed]",
      "text/plain": [
       "<Figure size 1500x900 with 1 Axes>"
      ]
     },
     "metadata": {},
     "output_type": "display_data"
    },
    {
     "data": {
      "text/html": [
       "Scheme: Parag Parikh Long Term Equity Fund - Direct Plan - Growth<br>Scheme Code: 122639<br>Best SIP Date: 15 <br>Years Observed: 5.42 year(s) <br>Absolute returns: 43.524%<br>"
      ],
      "text/plain": [
       "<IPython.core.display.HTML object>"
      ]
     },
     "metadata": {},
     "output_type": "display_data"
    },
    {
     "data": {
      "text/html": [
       "Dates Considered<br>From: 28-May-2013 <br>To: 14-Nov-2018<br>"
      ],
      "text/plain": [
       "<IPython.core.display.HTML object>"
      ]
     },
     "metadata": {},
     "output_type": "display_data"
    },
    {
     "data": {
      "text/html": [
       "<table border=\"1\" class=\"dataframe\">\n",
       "  <thead>\n",
       "    <tr style=\"text-align: right;\">\n",
       "      <th>SIP Date</th>\n",
       "      <th>Average Nav</th>\n",
       "      <th>Units</th>\n",
       "      <th>Terms</th>\n",
       "      <th>Amt Invested</th>\n",
       "      <th>Absolute Returns</th>\n",
       "      <th>Absolute Returns %</th>\n",
       "    </tr>\n",
       "  </thead>\n",
       "  <tbody>\n",
       "    <tr>\n",
       "      <td>15</td>\n",
       "      <td>16.3894</td>\n",
       "      <td>39659.8763</td>\n",
       "      <td>65</td>\n",
       "      <td>650000</td>\n",
       "      <td>932907.372</td>\n",
       "      <td>43.524</td>\n",
       "    </tr>\n",
       "    <tr>\n",
       "      <td>1</td>\n",
       "      <td>16.4106</td>\n",
       "      <td>40217.9545</td>\n",
       "      <td>66</td>\n",
       "      <td>660000</td>\n",
       "      <td>946034.878</td>\n",
       "      <td>43.338</td>\n",
       "    </tr>\n",
       "    <tr>\n",
       "      <td>5</td>\n",
       "      <td>16.4244</td>\n",
       "      <td>40184.0915</td>\n",
       "      <td>66</td>\n",
       "      <td>660000</td>\n",
       "      <td>945238.329</td>\n",
       "      <td>43.218</td>\n",
       "    </tr>\n",
       "    <tr>\n",
       "      <td>10</td>\n",
       "      <td>16.4430</td>\n",
       "      <td>40138.7341</td>\n",
       "      <td>66</td>\n",
       "      <td>660000</td>\n",
       "      <td>944171.401</td>\n",
       "      <td>43.056</td>\n",
       "    </tr>\n",
       "    <tr>\n",
       "      <td>25</td>\n",
       "      <td>16.4559</td>\n",
       "      <td>39499.4128</td>\n",
       "      <td>65</td>\n",
       "      <td>650000</td>\n",
       "      <td>929132.837</td>\n",
       "      <td>42.944</td>\n",
       "    </tr>\n",
       "    <tr>\n",
       "      <td>20</td>\n",
       "      <td>16.4728</td>\n",
       "      <td>39458.9686</td>\n",
       "      <td>65</td>\n",
       "      <td>650000</td>\n",
       "      <td>928181.481</td>\n",
       "      <td>42.797</td>\n",
       "    </tr>\n",
       "  </tbody>\n",
       "</table>"
      ],
      "text/plain": [
       "<IPython.core.display.HTML object>"
      ]
     },
     "metadata": {},
     "output_type": "display_data"
    },
    {
     "data": {
      "text/html": [
       "<p>The past 5.42 years of observations indicate that, having SIP date set to 15 of every month would have given the highest absolute \n",
       "returns of 43.524%</p>"
      ],
      "text/plain": [
       "<IPython.core.display.HTML object>"
      ]
     },
     "metadata": {},
     "output_type": "display_data"
    },
    {
     "data": {
      "text/html": [
       "<p>An SIP of ₹ 10,000.00 scheduled 5.42 year(s) ago on every month's 15 would have become ₹ 9,32,907.37 now.</p>"
      ],
      "text/plain": [
       "<IPython.core.display.HTML object>"
      ]
     },
     "metadata": {},
     "output_type": "display_data"
    },
    {
     "data": {
      "text/html": [
       "<h2>Returns across all the 30 calendar Dates</h2>"
      ],
      "text/plain": [
       "<IPython.core.display.HTML object>"
      ]
     },
     "metadata": {},
     "output_type": "display_data"
    },
    {
     "data": {
      "text/html": [
       "<h3>Returns for all the 30 calendar dates if the SIP was started 1 year(s) ago.<h3>"
      ],
      "text/plain": [
       "<IPython.core.display.HTML object>"
      ]
     },
     "metadata": {},
     "output_type": "display_data"
    },
    {
     "data": {
      "text/html": [
       "Scheme: Parag Parikh Long Term Equity Fund - Direct Plan - Growth<br>Scheme Code: 122639<br>Best SIP Date: 6 <br>Years Observed: 1 year(s) <br>Absolute returns: -2.956%<br>"
      ],
      "text/plain": [
       "<IPython.core.display.HTML object>"
      ]
     },
     "metadata": {},
     "output_type": "display_data"
    },
    {
     "data": {
      "text/html": [
       "Dates Considered<br>From: 14-Nov-2017 <br>To: 14-Nov-2018<br>"
      ],
      "text/plain": [
       "<IPython.core.display.HTML object>"
      ]
     },
     "metadata": {},
     "output_type": "display_data"
    },
    {
     "data": {
      "text/html": [
       "<table border=\"1\" class=\"dataframe\">\n",
       "  <thead>\n",
       "    <tr style=\"text-align: right;\">\n",
       "      <th>SIP Date</th>\n",
       "      <th>Average Nav</th>\n",
       "      <th>Units</th>\n",
       "      <th>Terms</th>\n",
       "      <th>Amt Invested</th>\n",
       "      <th>Absolute Returns</th>\n",
       "      <th>Absolute Returns %</th>\n",
       "    </tr>\n",
       "  </thead>\n",
       "  <tbody>\n",
       "    <tr>\n",
       "      <td>6</td>\n",
       "      <td>24.2391</td>\n",
       "      <td>4950.6688</td>\n",
       "      <td>12</td>\n",
       "      <td>120000</td>\n",
       "      <td>116453.097</td>\n",
       "      <td>-2.956</td>\n",
       "    </tr>\n",
       "    <tr>\n",
       "      <td>5</td>\n",
       "      <td>24.2609</td>\n",
       "      <td>4946.2375</td>\n",
       "      <td>12</td>\n",
       "      <td>120000</td>\n",
       "      <td>116348.861</td>\n",
       "      <td>-3.043</td>\n",
       "    </tr>\n",
       "    <tr>\n",
       "      <td>3</td>\n",
       "      <td>24.2694</td>\n",
       "      <td>4944.4910</td>\n",
       "      <td>12</td>\n",
       "      <td>120000</td>\n",
       "      <td>116307.778</td>\n",
       "      <td>-3.077</td>\n",
       "    </tr>\n",
       "    <tr>\n",
       "      <td>4</td>\n",
       "      <td>24.2747</td>\n",
       "      <td>4943.4265</td>\n",
       "      <td>12</td>\n",
       "      <td>120000</td>\n",
       "      <td>116282.739</td>\n",
       "      <td>-3.098</td>\n",
       "    </tr>\n",
       "    <tr>\n",
       "      <td>2</td>\n",
       "      <td>24.2829</td>\n",
       "      <td>4941.7482</td>\n",
       "      <td>12</td>\n",
       "      <td>120000</td>\n",
       "      <td>116243.260</td>\n",
       "      <td>-3.131</td>\n",
       "    </tr>\n",
       "    <tr>\n",
       "      <td>7</td>\n",
       "      <td>24.3155</td>\n",
       "      <td>4935.1199</td>\n",
       "      <td>12</td>\n",
       "      <td>120000</td>\n",
       "      <td>116087.345</td>\n",
       "      <td>-3.260</td>\n",
       "    </tr>\n",
       "    <tr>\n",
       "      <td>14</td>\n",
       "      <td>24.3268</td>\n",
       "      <td>5343.9016</td>\n",
       "      <td>13</td>\n",
       "      <td>130000</td>\n",
       "      <td>125702.994</td>\n",
       "      <td>-3.305</td>\n",
       "    </tr>\n",
       "    <tr>\n",
       "      <td>9</td>\n",
       "      <td>24.3477</td>\n",
       "      <td>4928.6015</td>\n",
       "      <td>12</td>\n",
       "      <td>120000</td>\n",
       "      <td>115934.015</td>\n",
       "      <td>-3.388</td>\n",
       "    </tr>\n",
       "    <tr>\n",
       "      <td>1</td>\n",
       "      <td>24.3501</td>\n",
       "      <td>4928.1059</td>\n",
       "      <td>12</td>\n",
       "      <td>120000</td>\n",
       "      <td>115922.357</td>\n",
       "      <td>-3.398</td>\n",
       "    </tr>\n",
       "    <tr>\n",
       "      <td>28</td>\n",
       "      <td>24.3528</td>\n",
       "      <td>4927.5556</td>\n",
       "      <td>12</td>\n",
       "      <td>120000</td>\n",
       "      <td>115909.412</td>\n",
       "      <td>-3.409</td>\n",
       "    </tr>\n",
       "    <tr>\n",
       "      <td>11</td>\n",
       "      <td>24.3544</td>\n",
       "      <td>4927.2350</td>\n",
       "      <td>12</td>\n",
       "      <td>120000</td>\n",
       "      <td>115901.871</td>\n",
       "      <td>-3.415</td>\n",
       "    </tr>\n",
       "    <tr>\n",
       "      <td>23</td>\n",
       "      <td>24.3574</td>\n",
       "      <td>4926.6370</td>\n",
       "      <td>12</td>\n",
       "      <td>120000</td>\n",
       "      <td>115887.804</td>\n",
       "      <td>-3.427</td>\n",
       "    </tr>\n",
       "    <tr>\n",
       "      <td>8</td>\n",
       "      <td>24.3618</td>\n",
       "      <td>4925.7446</td>\n",
       "      <td>12</td>\n",
       "      <td>120000</td>\n",
       "      <td>115866.813</td>\n",
       "      <td>-3.444</td>\n",
       "    </tr>\n",
       "    <tr>\n",
       "      <td>20</td>\n",
       "      <td>24.3650</td>\n",
       "      <td>4925.0911</td>\n",
       "      <td>12</td>\n",
       "      <td>120000</td>\n",
       "      <td>115851.440</td>\n",
       "      <td>-3.457</td>\n",
       "    </tr>\n",
       "    <tr>\n",
       "      <td>21</td>\n",
       "      <td>24.3690</td>\n",
       "      <td>4924.2947</td>\n",
       "      <td>12</td>\n",
       "      <td>120000</td>\n",
       "      <td>115832.707</td>\n",
       "      <td>-3.473</td>\n",
       "    </tr>\n",
       "    <tr>\n",
       "      <td>22</td>\n",
       "      <td>24.3717</td>\n",
       "      <td>4923.7434</td>\n",
       "      <td>12</td>\n",
       "      <td>120000</td>\n",
       "      <td>115819.739</td>\n",
       "      <td>-3.484</td>\n",
       "    </tr>\n",
       "    <tr>\n",
       "      <td>19</td>\n",
       "      <td>24.3754</td>\n",
       "      <td>4922.9892</td>\n",
       "      <td>12</td>\n",
       "      <td>120000</td>\n",
       "      <td>115801.998</td>\n",
       "      <td>-3.498</td>\n",
       "    </tr>\n",
       "    <tr>\n",
       "      <td>30</td>\n",
       "      <td>24.3787</td>\n",
       "      <td>4512.1396</td>\n",
       "      <td>11</td>\n",
       "      <td>110000</td>\n",
       "      <td>106137.706</td>\n",
       "      <td>-3.511</td>\n",
       "    </tr>\n",
       "    <tr>\n",
       "      <td>18</td>\n",
       "      <td>24.3808</td>\n",
       "      <td>4921.9003</td>\n",
       "      <td>12</td>\n",
       "      <td>120000</td>\n",
       "      <td>115776.384</td>\n",
       "      <td>-3.520</td>\n",
       "    </tr>\n",
       "    <tr>\n",
       "      <td>12</td>\n",
       "      <td>24.3877</td>\n",
       "      <td>4920.5090</td>\n",
       "      <td>12</td>\n",
       "      <td>120000</td>\n",
       "      <td>115743.657</td>\n",
       "      <td>-3.547</td>\n",
       "    </tr>\n",
       "    <tr>\n",
       "      <td>25</td>\n",
       "      <td>24.3878</td>\n",
       "      <td>4920.4891</td>\n",
       "      <td>12</td>\n",
       "      <td>120000</td>\n",
       "      <td>115743.189</td>\n",
       "      <td>-3.547</td>\n",
       "    </tr>\n",
       "    <tr>\n",
       "      <td>26</td>\n",
       "      <td>24.3896</td>\n",
       "      <td>4920.1292</td>\n",
       "      <td>12</td>\n",
       "      <td>120000</td>\n",
       "      <td>115734.723</td>\n",
       "      <td>-3.554</td>\n",
       "    </tr>\n",
       "    <tr>\n",
       "      <td>27</td>\n",
       "      <td>24.3898</td>\n",
       "      <td>4920.0964</td>\n",
       "      <td>12</td>\n",
       "      <td>120000</td>\n",
       "      <td>115733.952</td>\n",
       "      <td>-3.555</td>\n",
       "    </tr>\n",
       "    <tr>\n",
       "      <td>10</td>\n",
       "      <td>24.3980</td>\n",
       "      <td>4918.4349</td>\n",
       "      <td>12</td>\n",
       "      <td>120000</td>\n",
       "      <td>115694.869</td>\n",
       "      <td>-3.588</td>\n",
       "    </tr>\n",
       "    <tr>\n",
       "      <td>24</td>\n",
       "      <td>24.3995</td>\n",
       "      <td>4918.1240</td>\n",
       "      <td>12</td>\n",
       "      <td>120000</td>\n",
       "      <td>115687.555</td>\n",
       "      <td>-3.594</td>\n",
       "    </tr>\n",
       "    <tr>\n",
       "      <td>16</td>\n",
       "      <td>24.4012</td>\n",
       "      <td>4917.7871</td>\n",
       "      <td>12</td>\n",
       "      <td>120000</td>\n",
       "      <td>115679.631</td>\n",
       "      <td>-3.600</td>\n",
       "    </tr>\n",
       "    <tr>\n",
       "      <td>29</td>\n",
       "      <td>24.4060</td>\n",
       "      <td>4507.0799</td>\n",
       "      <td>11</td>\n",
       "      <td>110000</td>\n",
       "      <td>106018.688</td>\n",
       "      <td>-3.619</td>\n",
       "    </tr>\n",
       "    <tr>\n",
       "      <td>15</td>\n",
       "      <td>24.4073</td>\n",
       "      <td>4916.5670</td>\n",
       "      <td>12</td>\n",
       "      <td>120000</td>\n",
       "      <td>115650.931</td>\n",
       "      <td>-3.624</td>\n",
       "    </tr>\n",
       "    <tr>\n",
       "      <td>17</td>\n",
       "      <td>24.4123</td>\n",
       "      <td>4915.5518</td>\n",
       "      <td>12</td>\n",
       "      <td>120000</td>\n",
       "      <td>115627.050</td>\n",
       "      <td>-3.644</td>\n",
       "    </tr>\n",
       "    <tr>\n",
       "      <td>13</td>\n",
       "      <td>24.4228</td>\n",
       "      <td>4913.4480</td>\n",
       "      <td>12</td>\n",
       "      <td>120000</td>\n",
       "      <td>115577.563</td>\n",
       "      <td>-3.685</td>\n",
       "    </tr>\n",
       "  </tbody>\n",
       "</table>"
      ],
      "text/plain": [
       "<IPython.core.display.HTML object>"
      ]
     },
     "metadata": {},
     "output_type": "display_data"
    },
    {
     "data": {
      "text/html": [
       "<p>The past 1 years of observations indicate that, having SIP date set to 6 of every month would have given the highest absolute \n",
       "returns of -2.956%</p>"
      ],
      "text/plain": [
       "<IPython.core.display.HTML object>"
      ]
     },
     "metadata": {},
     "output_type": "display_data"
    },
    {
     "data": {
      "text/html": [
       "<p>An SIP of ₹ 10,000.00 scheduled 1 year(s) ago on every month's 6 would have become ₹ 1,16,453.10 now.</p>"
      ],
      "text/plain": [
       "<IPython.core.display.HTML object>"
      ]
     },
     "metadata": {},
     "output_type": "display_data"
    },
    {
     "data": {
      "text/html": [
       "<h3>Returns for all the 30 calendar dates if the SIP was started 3 year(s) ago.<h3>"
      ],
      "text/plain": [
       "<IPython.core.display.HTML object>"
      ]
     },
     "metadata": {},
     "output_type": "display_data"
    },
    {
     "data": {
      "text/html": [
       "Scheme: Parag Parikh Long Term Equity Fund - Direct Plan - Growth<br>Scheme Code: 122639<br>Best SIP Date: 16 <br>Years Observed: 3 year(s) <br>Absolute returns: 15.937%<br>"
      ],
      "text/plain": [
       "<IPython.core.display.HTML object>"
      ]
     },
     "metadata": {},
     "output_type": "display_data"
    },
    {
     "data": {
      "text/html": [
       "Dates Considered<br>From: 15-Nov-2015 <br>To: 14-Nov-2018<br>"
      ],
      "text/plain": [
       "<IPython.core.display.HTML object>"
      ]
     },
     "metadata": {},
     "output_type": "display_data"
    },
    {
     "data": {
      "text/html": [
       "<table border=\"1\" class=\"dataframe\">\n",
       "  <thead>\n",
       "    <tr style=\"text-align: right;\">\n",
       "      <th>SIP Date</th>\n",
       "      <th>Average Nav</th>\n",
       "      <th>Units</th>\n",
       "      <th>Terms</th>\n",
       "      <th>Amt Invested</th>\n",
       "      <th>Absolute Returns</th>\n",
       "      <th>Absolute Returns %</th>\n",
       "    </tr>\n",
       "  </thead>\n",
       "  <tbody>\n",
       "    <tr>\n",
       "      <td>16</td>\n",
       "      <td>20.2892</td>\n",
       "      <td>17743.4023</td>\n",
       "      <td>36</td>\n",
       "      <td>360000</td>\n",
       "      <td>417372.729</td>\n",
       "      <td>15.937</td>\n",
       "    </tr>\n",
       "    <tr>\n",
       "      <td>15</td>\n",
       "      <td>20.3004</td>\n",
       "      <td>17733.6552</td>\n",
       "      <td>36</td>\n",
       "      <td>360000</td>\n",
       "      <td>417143.451</td>\n",
       "      <td>15.873</td>\n",
       "    </tr>\n",
       "    <tr>\n",
       "      <td>18</td>\n",
       "      <td>20.3090</td>\n",
       "      <td>17726.1071</td>\n",
       "      <td>36</td>\n",
       "      <td>360000</td>\n",
       "      <td>416965.899</td>\n",
       "      <td>15.824</td>\n",
       "    </tr>\n",
       "    <tr>\n",
       "      <td>20</td>\n",
       "      <td>20.3095</td>\n",
       "      <td>17725.6874</td>\n",
       "      <td>36</td>\n",
       "      <td>360000</td>\n",
       "      <td>416956.027</td>\n",
       "      <td>15.821</td>\n",
       "    </tr>\n",
       "    <tr>\n",
       "      <td>17</td>\n",
       "      <td>20.3118</td>\n",
       "      <td>17723.7081</td>\n",
       "      <td>36</td>\n",
       "      <td>360000</td>\n",
       "      <td>416909.469</td>\n",
       "      <td>15.808</td>\n",
       "    </tr>\n",
       "    <tr>\n",
       "      <td>19</td>\n",
       "      <td>20.3231</td>\n",
       "      <td>17713.8053</td>\n",
       "      <td>36</td>\n",
       "      <td>360000</td>\n",
       "      <td>416676.528</td>\n",
       "      <td>15.744</td>\n",
       "    </tr>\n",
       "    <tr>\n",
       "      <td>24</td>\n",
       "      <td>20.3276</td>\n",
       "      <td>17709.8928</td>\n",
       "      <td>36</td>\n",
       "      <td>360000</td>\n",
       "      <td>416584.495</td>\n",
       "      <td>15.718</td>\n",
       "    </tr>\n",
       "    <tr>\n",
       "      <td>21</td>\n",
       "      <td>20.3279</td>\n",
       "      <td>17709.6360</td>\n",
       "      <td>36</td>\n",
       "      <td>360000</td>\n",
       "      <td>416578.455</td>\n",
       "      <td>15.716</td>\n",
       "    </tr>\n",
       "    <tr>\n",
       "      <td>22</td>\n",
       "      <td>20.3356</td>\n",
       "      <td>17702.9490</td>\n",
       "      <td>36</td>\n",
       "      <td>360000</td>\n",
       "      <td>416421.158</td>\n",
       "      <td>15.673</td>\n",
       "    </tr>\n",
       "    <tr>\n",
       "      <td>23</td>\n",
       "      <td>20.3415</td>\n",
       "      <td>17697.8311</td>\n",
       "      <td>36</td>\n",
       "      <td>360000</td>\n",
       "      <td>416300.772</td>\n",
       "      <td>15.639</td>\n",
       "    </tr>\n",
       "    <tr>\n",
       "      <td>29</td>\n",
       "      <td>20.3516</td>\n",
       "      <td>16706.2825</td>\n",
       "      <td>34</td>\n",
       "      <td>340000</td>\n",
       "      <td>392976.871</td>\n",
       "      <td>15.582</td>\n",
       "    </tr>\n",
       "    <tr>\n",
       "      <td>25</td>\n",
       "      <td>20.3580</td>\n",
       "      <td>17683.4806</td>\n",
       "      <td>36</td>\n",
       "      <td>360000</td>\n",
       "      <td>415963.209</td>\n",
       "      <td>15.545</td>\n",
       "    </tr>\n",
       "    <tr>\n",
       "      <td>27</td>\n",
       "      <td>20.3663</td>\n",
       "      <td>17676.2946</td>\n",
       "      <td>36</td>\n",
       "      <td>360000</td>\n",
       "      <td>415794.175</td>\n",
       "      <td>15.498</td>\n",
       "    </tr>\n",
       "    <tr>\n",
       "      <td>26</td>\n",
       "      <td>20.3764</td>\n",
       "      <td>17667.4816</td>\n",
       "      <td>36</td>\n",
       "      <td>360000</td>\n",
       "      <td>415586.869</td>\n",
       "      <td>15.441</td>\n",
       "    </tr>\n",
       "    <tr>\n",
       "      <td>28</td>\n",
       "      <td>20.3846</td>\n",
       "      <td>17660.3555</td>\n",
       "      <td>36</td>\n",
       "      <td>360000</td>\n",
       "      <td>415419.244</td>\n",
       "      <td>15.394</td>\n",
       "    </tr>\n",
       "    <tr>\n",
       "      <td>11</td>\n",
       "      <td>20.4367</td>\n",
       "      <td>17615.3282</td>\n",
       "      <td>36</td>\n",
       "      <td>360000</td>\n",
       "      <td>414360.081</td>\n",
       "      <td>15.100</td>\n",
       "    </tr>\n",
       "    <tr>\n",
       "      <td>4</td>\n",
       "      <td>20.4429</td>\n",
       "      <td>17610.0079</td>\n",
       "      <td>36</td>\n",
       "      <td>360000</td>\n",
       "      <td>414234.933</td>\n",
       "      <td>15.065</td>\n",
       "    </tr>\n",
       "    <tr>\n",
       "      <td>3</td>\n",
       "      <td>20.4436</td>\n",
       "      <td>17609.3971</td>\n",
       "      <td>36</td>\n",
       "      <td>360000</td>\n",
       "      <td>414220.565</td>\n",
       "      <td>15.061</td>\n",
       "    </tr>\n",
       "    <tr>\n",
       "      <td>12</td>\n",
       "      <td>20.4436</td>\n",
       "      <td>17609.4210</td>\n",
       "      <td>36</td>\n",
       "      <td>360000</td>\n",
       "      <td>414221.127</td>\n",
       "      <td>15.061</td>\n",
       "    </tr>\n",
       "    <tr>\n",
       "      <td>6</td>\n",
       "      <td>20.4486</td>\n",
       "      <td>17605.1365</td>\n",
       "      <td>36</td>\n",
       "      <td>360000</td>\n",
       "      <td>414120.344</td>\n",
       "      <td>15.033</td>\n",
       "    </tr>\n",
       "    <tr>\n",
       "      <td>5</td>\n",
       "      <td>20.4488</td>\n",
       "      <td>17604.9779</td>\n",
       "      <td>36</td>\n",
       "      <td>360000</td>\n",
       "      <td>414116.614</td>\n",
       "      <td>15.032</td>\n",
       "    </tr>\n",
       "    <tr>\n",
       "      <td>2</td>\n",
       "      <td>20.4561</td>\n",
       "      <td>17598.6378</td>\n",
       "      <td>36</td>\n",
       "      <td>360000</td>\n",
       "      <td>413967.477</td>\n",
       "      <td>14.991</td>\n",
       "    </tr>\n",
       "    <tr>\n",
       "      <td>1</td>\n",
       "      <td>20.4659</td>\n",
       "      <td>17590.2562</td>\n",
       "      <td>36</td>\n",
       "      <td>360000</td>\n",
       "      <td>413770.320</td>\n",
       "      <td>14.936</td>\n",
       "    </tr>\n",
       "    <tr>\n",
       "      <td>7</td>\n",
       "      <td>20.4667</td>\n",
       "      <td>17589.5655</td>\n",
       "      <td>36</td>\n",
       "      <td>360000</td>\n",
       "      <td>413754.072</td>\n",
       "      <td>14.932</td>\n",
       "    </tr>\n",
       "    <tr>\n",
       "      <td>13</td>\n",
       "      <td>20.4713</td>\n",
       "      <td>17585.5755</td>\n",
       "      <td>36</td>\n",
       "      <td>360000</td>\n",
       "      <td>413660.217</td>\n",
       "      <td>14.906</td>\n",
       "    </tr>\n",
       "    <tr>\n",
       "      <td>10</td>\n",
       "      <td>20.4762</td>\n",
       "      <td>17581.4081</td>\n",
       "      <td>36</td>\n",
       "      <td>360000</td>\n",
       "      <td>413562.188</td>\n",
       "      <td>14.878</td>\n",
       "    </tr>\n",
       "    <tr>\n",
       "      <td>14</td>\n",
       "      <td>20.4772</td>\n",
       "      <td>17580.5557</td>\n",
       "      <td>36</td>\n",
       "      <td>360000</td>\n",
       "      <td>413542.138</td>\n",
       "      <td>14.873</td>\n",
       "    </tr>\n",
       "    <tr>\n",
       "      <td>9</td>\n",
       "      <td>20.4803</td>\n",
       "      <td>17577.8865</td>\n",
       "      <td>36</td>\n",
       "      <td>360000</td>\n",
       "      <td>413479.351</td>\n",
       "      <td>14.855</td>\n",
       "    </tr>\n",
       "    <tr>\n",
       "      <td>8</td>\n",
       "      <td>20.4905</td>\n",
       "      <td>17569.1495</td>\n",
       "      <td>36</td>\n",
       "      <td>360000</td>\n",
       "      <td>413273.833</td>\n",
       "      <td>14.798</td>\n",
       "    </tr>\n",
       "    <tr>\n",
       "      <td>30</td>\n",
       "      <td>20.5756</td>\n",
       "      <td>16038.4367</td>\n",
       "      <td>33</td>\n",
       "      <td>330000</td>\n",
       "      <td>377267.335</td>\n",
       "      <td>14.323</td>\n",
       "    </tr>\n",
       "  </tbody>\n",
       "</table>"
      ],
      "text/plain": [
       "<IPython.core.display.HTML object>"
      ]
     },
     "metadata": {},
     "output_type": "display_data"
    },
    {
     "data": {
      "text/html": [
       "<p>The past 3 years of observations indicate that, having SIP date set to 16 of every month would have given the highest absolute \n",
       "returns of 15.937%</p>"
      ],
      "text/plain": [
       "<IPython.core.display.HTML object>"
      ]
     },
     "metadata": {},
     "output_type": "display_data"
    },
    {
     "data": {
      "text/html": [
       "<p>An SIP of ₹ 10,000.00 scheduled 3 year(s) ago on every month's 16 would have become ₹ 4,17,372.73 now.</p>"
      ],
      "text/plain": [
       "<IPython.core.display.HTML object>"
      ]
     },
     "metadata": {},
     "output_type": "display_data"
    },
    {
     "data": {
      "text/html": [
       "<h3>Returns for all the 30 calendar dates if the SIP was started 5 year(s) ago.<h3>"
      ],
      "text/plain": [
       "<IPython.core.display.HTML object>"
      ]
     },
     "metadata": {},
     "output_type": "display_data"
    },
    {
     "data": {
      "text/html": [
       "Scheme: Parag Parikh Long Term Equity Fund - Direct Plan - Growth<br>Scheme Code: 122639<br>Best SIP Date: 16 <br>Years Observed: 5 year(s) <br>Absolute returns: 36.064%<br>"
      ],
      "text/plain": [
       "<IPython.core.display.HTML object>"
      ]
     },
     "metadata": {},
     "output_type": "display_data"
    },
    {
     "data": {
      "text/html": [
       "Dates Considered<br>From: 14-Nov-2013 <br>To: 14-Nov-2018<br>"
      ],
      "text/plain": [
       "<IPython.core.display.HTML object>"
      ]
     },
     "metadata": {},
     "output_type": "display_data"
    },
    {
     "data": {
      "text/html": [
       "<table border=\"1\" class=\"dataframe\">\n",
       "  <thead>\n",
       "    <tr style=\"text-align: right;\">\n",
       "      <th>SIP Date</th>\n",
       "      <th>Average Nav</th>\n",
       "      <th>Units</th>\n",
       "      <th>Terms</th>\n",
       "      <th>Amt Invested</th>\n",
       "      <th>Absolute Returns</th>\n",
       "      <th>Absolute Returns %</th>\n",
       "    </tr>\n",
       "  </thead>\n",
       "  <tbody>\n",
       "    <tr>\n",
       "      <td>16</td>\n",
       "      <td>17.2880</td>\n",
       "      <td>34706.1186</td>\n",
       "      <td>60</td>\n",
       "      <td>600000</td>\n",
       "      <td>816381.616</td>\n",
       "      <td>36.064</td>\n",
       "    </tr>\n",
       "    <tr>\n",
       "      <td>15</td>\n",
       "      <td>17.2938</td>\n",
       "      <td>34694.5765</td>\n",
       "      <td>60</td>\n",
       "      <td>600000</td>\n",
       "      <td>816110.115</td>\n",
       "      <td>36.018</td>\n",
       "    </tr>\n",
       "    <tr>\n",
       "      <td>17</td>\n",
       "      <td>17.3291</td>\n",
       "      <td>34623.8655</td>\n",
       "      <td>60</td>\n",
       "      <td>600000</td>\n",
       "      <td>814446.801</td>\n",
       "      <td>35.741</td>\n",
       "    </tr>\n",
       "    <tr>\n",
       "      <td>14</td>\n",
       "      <td>17.3484</td>\n",
       "      <td>35161.7235</td>\n",
       "      <td>61</td>\n",
       "      <td>610000</td>\n",
       "      <td>827098.673</td>\n",
       "      <td>35.590</td>\n",
       "    </tr>\n",
       "    <tr>\n",
       "      <td>18</td>\n",
       "      <td>17.3569</td>\n",
       "      <td>34568.4588</td>\n",
       "      <td>60</td>\n",
       "      <td>600000</td>\n",
       "      <td>813143.486</td>\n",
       "      <td>35.524</td>\n",
       "    </tr>\n",
       "    <tr>\n",
       "      <td>19</td>\n",
       "      <td>17.3773</td>\n",
       "      <td>34527.7783</td>\n",
       "      <td>60</td>\n",
       "      <td>600000</td>\n",
       "      <td>812186.571</td>\n",
       "      <td>35.365</td>\n",
       "    </tr>\n",
       "    <tr>\n",
       "      <td>25</td>\n",
       "      <td>17.3863</td>\n",
       "      <td>34509.8485</td>\n",
       "      <td>60</td>\n",
       "      <td>600000</td>\n",
       "      <td>811764.813</td>\n",
       "      <td>35.294</td>\n",
       "    </tr>\n",
       "    <tr>\n",
       "      <td>20</td>\n",
       "      <td>17.3870</td>\n",
       "      <td>34508.4968</td>\n",
       "      <td>60</td>\n",
       "      <td>600000</td>\n",
       "      <td>811733.018</td>\n",
       "      <td>35.289</td>\n",
       "    </tr>\n",
       "    <tr>\n",
       "      <td>24</td>\n",
       "      <td>17.3916</td>\n",
       "      <td>34499.4120</td>\n",
       "      <td>60</td>\n",
       "      <td>600000</td>\n",
       "      <td>811519.319</td>\n",
       "      <td>35.253</td>\n",
       "    </tr>\n",
       "    <tr>\n",
       "      <td>26</td>\n",
       "      <td>17.3951</td>\n",
       "      <td>34492.4392</td>\n",
       "      <td>60</td>\n",
       "      <td>600000</td>\n",
       "      <td>811355.300</td>\n",
       "      <td>35.226</td>\n",
       "    </tr>\n",
       "    <tr>\n",
       "      <td>21</td>\n",
       "      <td>17.4008</td>\n",
       "      <td>34481.1619</td>\n",
       "      <td>60</td>\n",
       "      <td>600000</td>\n",
       "      <td>811090.027</td>\n",
       "      <td>35.182</td>\n",
       "    </tr>\n",
       "    <tr>\n",
       "      <td>22</td>\n",
       "      <td>17.4038</td>\n",
       "      <td>34475.1887</td>\n",
       "      <td>60</td>\n",
       "      <td>600000</td>\n",
       "      <td>810949.521</td>\n",
       "      <td>35.158</td>\n",
       "    </tr>\n",
       "    <tr>\n",
       "      <td>23</td>\n",
       "      <td>17.4087</td>\n",
       "      <td>34465.6051</td>\n",
       "      <td>60</td>\n",
       "      <td>600000</td>\n",
       "      <td>810724.089</td>\n",
       "      <td>35.120</td>\n",
       "    </tr>\n",
       "    <tr>\n",
       "      <td>27</td>\n",
       "      <td>17.4112</td>\n",
       "      <td>34460.6492</td>\n",
       "      <td>60</td>\n",
       "      <td>600000</td>\n",
       "      <td>810607.513</td>\n",
       "      <td>35.101</td>\n",
       "    </tr>\n",
       "    <tr>\n",
       "      <td>28</td>\n",
       "      <td>17.4474</td>\n",
       "      <td>34389.0679</td>\n",
       "      <td>60</td>\n",
       "      <td>600000</td>\n",
       "      <td>808923.727</td>\n",
       "      <td>34.821</td>\n",
       "    </tr>\n",
       "    <tr>\n",
       "      <td>6</td>\n",
       "      <td>17.5130</td>\n",
       "      <td>34260.1877</td>\n",
       "      <td>60</td>\n",
       "      <td>600000</td>\n",
       "      <td>805892.117</td>\n",
       "      <td>34.316</td>\n",
       "    </tr>\n",
       "    <tr>\n",
       "      <td>1</td>\n",
       "      <td>17.5164</td>\n",
       "      <td>34253.6131</td>\n",
       "      <td>60</td>\n",
       "      <td>600000</td>\n",
       "      <td>805737.465</td>\n",
       "      <td>34.290</td>\n",
       "    </tr>\n",
       "    <tr>\n",
       "      <td>3</td>\n",
       "      <td>17.5208</td>\n",
       "      <td>34244.9802</td>\n",
       "      <td>60</td>\n",
       "      <td>600000</td>\n",
       "      <td>805534.396</td>\n",
       "      <td>34.256</td>\n",
       "    </tr>\n",
       "    <tr>\n",
       "      <td>7</td>\n",
       "      <td>17.5220</td>\n",
       "      <td>34242.5830</td>\n",
       "      <td>60</td>\n",
       "      <td>600000</td>\n",
       "      <td>805478.007</td>\n",
       "      <td>34.247</td>\n",
       "    </tr>\n",
       "    <tr>\n",
       "      <td>4</td>\n",
       "      <td>17.5259</td>\n",
       "      <td>34234.9857</td>\n",
       "      <td>60</td>\n",
       "      <td>600000</td>\n",
       "      <td>805299.298</td>\n",
       "      <td>34.217</td>\n",
       "    </tr>\n",
       "    <tr>\n",
       "      <td>13</td>\n",
       "      <td>17.5261</td>\n",
       "      <td>34234.5864</td>\n",
       "      <td>60</td>\n",
       "      <td>600000</td>\n",
       "      <td>805289.906</td>\n",
       "      <td>34.215</td>\n",
       "    </tr>\n",
       "    <tr>\n",
       "      <td>12</td>\n",
       "      <td>17.5276</td>\n",
       "      <td>34231.8129</td>\n",
       "      <td>60</td>\n",
       "      <td>600000</td>\n",
       "      <td>805224.665</td>\n",
       "      <td>34.204</td>\n",
       "    </tr>\n",
       "    <tr>\n",
       "      <td>11</td>\n",
       "      <td>17.5287</td>\n",
       "      <td>34229.5818</td>\n",
       "      <td>60</td>\n",
       "      <td>600000</td>\n",
       "      <td>805172.184</td>\n",
       "      <td>34.195</td>\n",
       "    </tr>\n",
       "    <tr>\n",
       "      <td>2</td>\n",
       "      <td>17.5291</td>\n",
       "      <td>34228.7803</td>\n",
       "      <td>60</td>\n",
       "      <td>600000</td>\n",
       "      <td>805153.330</td>\n",
       "      <td>34.192</td>\n",
       "    </tr>\n",
       "    <tr>\n",
       "      <td>5</td>\n",
       "      <td>17.5291</td>\n",
       "      <td>34228.8013</td>\n",
       "      <td>60</td>\n",
       "      <td>600000</td>\n",
       "      <td>805153.824</td>\n",
       "      <td>34.192</td>\n",
       "    </tr>\n",
       "    <tr>\n",
       "      <td>29</td>\n",
       "      <td>17.5369</td>\n",
       "      <td>31932.6809</td>\n",
       "      <td>56</td>\n",
       "      <td>560000</td>\n",
       "      <td>751142.873</td>\n",
       "      <td>34.133</td>\n",
       "    </tr>\n",
       "    <tr>\n",
       "      <td>8</td>\n",
       "      <td>17.5436</td>\n",
       "      <td>34200.5975</td>\n",
       "      <td>60</td>\n",
       "      <td>600000</td>\n",
       "      <td>804490.395</td>\n",
       "      <td>34.081</td>\n",
       "    </tr>\n",
       "    <tr>\n",
       "      <td>10</td>\n",
       "      <td>17.5447</td>\n",
       "      <td>34198.2868</td>\n",
       "      <td>60</td>\n",
       "      <td>600000</td>\n",
       "      <td>804436.041</td>\n",
       "      <td>34.073</td>\n",
       "    </tr>\n",
       "    <tr>\n",
       "      <td>9</td>\n",
       "      <td>17.5504</td>\n",
       "      <td>34187.2312</td>\n",
       "      <td>60</td>\n",
       "      <td>600000</td>\n",
       "      <td>804175.983</td>\n",
       "      <td>34.029</td>\n",
       "    </tr>\n",
       "    <tr>\n",
       "      <td>30</td>\n",
       "      <td>17.5792</td>\n",
       "      <td>31287.0083</td>\n",
       "      <td>55</td>\n",
       "      <td>550000</td>\n",
       "      <td>735954.910</td>\n",
       "      <td>33.810</td>\n",
       "    </tr>\n",
       "  </tbody>\n",
       "</table>"
      ],
      "text/plain": [
       "<IPython.core.display.HTML object>"
      ]
     },
     "metadata": {},
     "output_type": "display_data"
    },
    {
     "data": {
      "text/html": [
       "<p>The past 5 years of observations indicate that, having SIP date set to 16 of every month would have given the highest absolute \n",
       "returns of 36.064%</p>"
      ],
      "text/plain": [
       "<IPython.core.display.HTML object>"
      ]
     },
     "metadata": {},
     "output_type": "display_data"
    },
    {
     "data": {
      "text/html": [
       "<p>An SIP of ₹ 10,000.00 scheduled 5 year(s) ago on every month's 16 would have become ₹ 8,16,381.62 now.</p>"
      ],
      "text/plain": [
       "<IPython.core.display.HTML object>"
      ]
     },
     "metadata": {},
     "output_type": "display_data"
    },
    {
     "data": {
      "text/html": [
       "<h3>Returns for all the 30 calendar dates if the SIP was started 5.5 year(s) ago.<h3>"
      ],
      "text/plain": [
       "<IPython.core.display.HTML object>"
      ]
     },
     "metadata": {},
     "output_type": "display_data"
    },
    {
     "data": {
      "text/html": [
       "Scheme: Parag Parikh Long Term Equity Fund - Direct Plan - Growth<br>Scheme Code: 122639<br>Best SIP Date: 28 <br>Years Observed: 5.5 year(s) <br>Absolute returns: 43.922%<br>"
      ],
      "text/plain": [
       "<IPython.core.display.HTML object>"
      ]
     },
     "metadata": {},
     "output_type": "display_data"
    },
    {
     "data": {
      "text/html": [
       "Dates Considered<br>From: 28-May-2013 <br>To: 14-Nov-2018<br>"
      ],
      "text/plain": [
       "<IPython.core.display.HTML object>"
      ]
     },
     "metadata": {},
     "output_type": "display_data"
    },
    {
     "data": {
      "text/html": [
       "<table border=\"1\" class=\"dataframe\">\n",
       "  <thead>\n",
       "    <tr style=\"text-align: right;\">\n",
       "      <th>SIP Date</th>\n",
       "      <th>Average Nav</th>\n",
       "      <th>Units</th>\n",
       "      <th>Terms</th>\n",
       "      <th>Amt Invested</th>\n",
       "      <th>Absolute Returns</th>\n",
       "      <th>Absolute Returns %</th>\n",
       "    </tr>\n",
       "  </thead>\n",
       "  <tbody>\n",
       "    <tr>\n",
       "      <td>28</td>\n",
       "      <td>16.3441</td>\n",
       "      <td>40381.4899</td>\n",
       "      <td>66</td>\n",
       "      <td>660000</td>\n",
       "      <td>949881.672</td>\n",
       "      <td>43.922</td>\n",
       "    </tr>\n",
       "    <tr>\n",
       "      <td>29</td>\n",
       "      <td>16.3521</td>\n",
       "      <td>37915.5164</td>\n",
       "      <td>62</td>\n",
       "      <td>620000</td>\n",
       "      <td>891875.318</td>\n",
       "      <td>43.851</td>\n",
       "    </tr>\n",
       "    <tr>\n",
       "      <td>30</td>\n",
       "      <td>16.3662</td>\n",
       "      <td>37271.8384</td>\n",
       "      <td>61</td>\n",
       "      <td>610000</td>\n",
       "      <td>876734.273</td>\n",
       "      <td>43.727</td>\n",
       "    </tr>\n",
       "    <tr>\n",
       "      <td>16</td>\n",
       "      <td>16.3817</td>\n",
       "      <td>39678.4806</td>\n",
       "      <td>65</td>\n",
       "      <td>650000</td>\n",
       "      <td>933344.996</td>\n",
       "      <td>43.591</td>\n",
       "    </tr>\n",
       "    <tr>\n",
       "      <td>15</td>\n",
       "      <td>16.3894</td>\n",
       "      <td>39659.8763</td>\n",
       "      <td>65</td>\n",
       "      <td>650000</td>\n",
       "      <td>932907.372</td>\n",
       "      <td>43.524</td>\n",
       "    </tr>\n",
       "    <tr>\n",
       "      <td>6</td>\n",
       "      <td>16.4064</td>\n",
       "      <td>40228.1091</td>\n",
       "      <td>66</td>\n",
       "      <td>660000</td>\n",
       "      <td>946273.742</td>\n",
       "      <td>43.375</td>\n",
       "    </tr>\n",
       "    <tr>\n",
       "      <td>1</td>\n",
       "      <td>16.4106</td>\n",
       "      <td>40217.9545</td>\n",
       "      <td>66</td>\n",
       "      <td>660000</td>\n",
       "      <td>946034.878</td>\n",
       "      <td>43.338</td>\n",
       "    </tr>\n",
       "    <tr>\n",
       "      <td>17</td>\n",
       "      <td>16.4125</td>\n",
       "      <td>39604.0581</td>\n",
       "      <td>65</td>\n",
       "      <td>650000</td>\n",
       "      <td>931594.377</td>\n",
       "      <td>43.322</td>\n",
       "    </tr>\n",
       "    <tr>\n",
       "      <td>3</td>\n",
       "      <td>16.4141</td>\n",
       "      <td>40209.4154</td>\n",
       "      <td>66</td>\n",
       "      <td>660000</td>\n",
       "      <td>945834.016</td>\n",
       "      <td>43.308</td>\n",
       "    </tr>\n",
       "    <tr>\n",
       "      <td>4</td>\n",
       "      <td>16.4169</td>\n",
       "      <td>40202.4869</td>\n",
       "      <td>66</td>\n",
       "      <td>660000</td>\n",
       "      <td>945671.039</td>\n",
       "      <td>43.283</td>\n",
       "    </tr>\n",
       "    <tr>\n",
       "      <td>7</td>\n",
       "      <td>16.4173</td>\n",
       "      <td>40201.4821</td>\n",
       "      <td>66</td>\n",
       "      <td>660000</td>\n",
       "      <td>945647.403</td>\n",
       "      <td>43.280</td>\n",
       "    </tr>\n",
       "    <tr>\n",
       "      <td>5</td>\n",
       "      <td>16.4244</td>\n",
       "      <td>40184.0915</td>\n",
       "      <td>66</td>\n",
       "      <td>660000</td>\n",
       "      <td>945238.329</td>\n",
       "      <td>43.218</td>\n",
       "    </tr>\n",
       "    <tr>\n",
       "      <td>2</td>\n",
       "      <td>16.4253</td>\n",
       "      <td>40181.9939</td>\n",
       "      <td>66</td>\n",
       "      <td>660000</td>\n",
       "      <td>945188.988</td>\n",
       "      <td>43.210</td>\n",
       "    </tr>\n",
       "    <tr>\n",
       "      <td>8</td>\n",
       "      <td>16.4352</td>\n",
       "      <td>40157.8014</td>\n",
       "      <td>66</td>\n",
       "      <td>660000</td>\n",
       "      <td>944619.915</td>\n",
       "      <td>43.124</td>\n",
       "    </tr>\n",
       "    <tr>\n",
       "      <td>11</td>\n",
       "      <td>16.4368</td>\n",
       "      <td>40153.8846</td>\n",
       "      <td>66</td>\n",
       "      <td>660000</td>\n",
       "      <td>944527.781</td>\n",
       "      <td>43.110</td>\n",
       "    </tr>\n",
       "    <tr>\n",
       "      <td>12</td>\n",
       "      <td>16.4420</td>\n",
       "      <td>40141.0956</td>\n",
       "      <td>66</td>\n",
       "      <td>660000</td>\n",
       "      <td>944226.949</td>\n",
       "      <td>43.065</td>\n",
       "    </tr>\n",
       "    <tr>\n",
       "      <td>10</td>\n",
       "      <td>16.4430</td>\n",
       "      <td>40138.7341</td>\n",
       "      <td>66</td>\n",
       "      <td>660000</td>\n",
       "      <td>944171.401</td>\n",
       "      <td>43.056</td>\n",
       "    </tr>\n",
       "    <tr>\n",
       "      <td>9</td>\n",
       "      <td>16.4452</td>\n",
       "      <td>40133.3826</td>\n",
       "      <td>66</td>\n",
       "      <td>660000</td>\n",
       "      <td>944045.519</td>\n",
       "      <td>43.037</td>\n",
       "    </tr>\n",
       "    <tr>\n",
       "      <td>13</td>\n",
       "      <td>16.4463</td>\n",
       "      <td>40130.5491</td>\n",
       "      <td>66</td>\n",
       "      <td>660000</td>\n",
       "      <td>943978.867</td>\n",
       "      <td>43.027</td>\n",
       "    </tr>\n",
       "    <tr>\n",
       "      <td>18</td>\n",
       "      <td>16.4467</td>\n",
       "      <td>39521.5753</td>\n",
       "      <td>65</td>\n",
       "      <td>650000</td>\n",
       "      <td>929654.159</td>\n",
       "      <td>43.024</td>\n",
       "    </tr>\n",
       "    <tr>\n",
       "      <td>14</td>\n",
       "      <td>16.4522</td>\n",
       "      <td>40116.1255</td>\n",
       "      <td>66</td>\n",
       "      <td>660000</td>\n",
       "      <td>943639.585</td>\n",
       "      <td>42.976</td>\n",
       "    </tr>\n",
       "    <tr>\n",
       "      <td>25</td>\n",
       "      <td>16.4559</td>\n",
       "      <td>39499.4128</td>\n",
       "      <td>65</td>\n",
       "      <td>650000</td>\n",
       "      <td>929132.837</td>\n",
       "      <td>42.944</td>\n",
       "    </tr>\n",
       "    <tr>\n",
       "      <td>24</td>\n",
       "      <td>16.4628</td>\n",
       "      <td>39482.9629</td>\n",
       "      <td>65</td>\n",
       "      <td>650000</td>\n",
       "      <td>928745.891</td>\n",
       "      <td>42.884</td>\n",
       "    </tr>\n",
       "    <tr>\n",
       "      <td>26</td>\n",
       "      <td>16.4633</td>\n",
       "      <td>39481.7950</td>\n",
       "      <td>65</td>\n",
       "      <td>650000</td>\n",
       "      <td>928718.419</td>\n",
       "      <td>42.880</td>\n",
       "    </tr>\n",
       "    <tr>\n",
       "      <td>19</td>\n",
       "      <td>16.4671</td>\n",
       "      <td>39472.6527</td>\n",
       "      <td>65</td>\n",
       "      <td>650000</td>\n",
       "      <td>928503.368</td>\n",
       "      <td>42.847</td>\n",
       "    </tr>\n",
       "    <tr>\n",
       "      <td>27</td>\n",
       "      <td>16.4710</td>\n",
       "      <td>39463.2640</td>\n",
       "      <td>65</td>\n",
       "      <td>650000</td>\n",
       "      <td>928282.520</td>\n",
       "      <td>42.813</td>\n",
       "    </tr>\n",
       "    <tr>\n",
       "      <td>20</td>\n",
       "      <td>16.4728</td>\n",
       "      <td>39458.9686</td>\n",
       "      <td>65</td>\n",
       "      <td>650000</td>\n",
       "      <td>928181.481</td>\n",
       "      <td>42.797</td>\n",
       "    </tr>\n",
       "    <tr>\n",
       "      <td>22</td>\n",
       "      <td>16.4777</td>\n",
       "      <td>39447.2041</td>\n",
       "      <td>65</td>\n",
       "      <td>650000</td>\n",
       "      <td>927904.748</td>\n",
       "      <td>42.755</td>\n",
       "    </tr>\n",
       "    <tr>\n",
       "      <td>21</td>\n",
       "      <td>16.4785</td>\n",
       "      <td>39445.3694</td>\n",
       "      <td>65</td>\n",
       "      <td>650000</td>\n",
       "      <td>927861.591</td>\n",
       "      <td>42.748</td>\n",
       "    </tr>\n",
       "    <tr>\n",
       "      <td>23</td>\n",
       "      <td>16.4848</td>\n",
       "      <td>39430.2491</td>\n",
       "      <td>65</td>\n",
       "      <td>650000</td>\n",
       "      <td>927505.921</td>\n",
       "      <td>42.693</td>\n",
       "    </tr>\n",
       "  </tbody>\n",
       "</table>"
      ],
      "text/plain": [
       "<IPython.core.display.HTML object>"
      ]
     },
     "metadata": {},
     "output_type": "display_data"
    },
    {
     "data": {
      "text/html": [
       "<p>The past 5.5 years of observations indicate that, having SIP date set to 28 of every month would have given the highest absolute \n",
       "returns of 43.922%</p>"
      ],
      "text/plain": [
       "<IPython.core.display.HTML object>"
      ]
     },
     "metadata": {},
     "output_type": "display_data"
    },
    {
     "data": {
      "text/html": [
       "<p>An SIP of ₹ 10,000.00 scheduled 5.5 year(s) ago on every month's 28 would have become ₹ 9,49,881.67 now.</p>"
      ],
      "text/plain": [
       "<IPython.core.display.HTML object>"
      ]
     },
     "metadata": {},
     "output_type": "display_data"
    }
   ],
   "source": [
    "if __name__ == \"__main__\":\n",
    "    display(HTML('<h2>Full Report<h2>'))\n",
    "    init(True)\n",
    "    display(HTML('<h2>Returns across all the 30 calendar Dates</h2>'))\n",
    "    init(False)"
   ]
  },
  {
   "cell_type": "code",
   "execution_count": null,
   "metadata": {},
   "outputs": [],
   "source": []
  }
 ],
 "metadata": {
  "kernelspec": {
   "display_name": "Python 3",
   "language": "python",
   "name": "python3"
  },
  "language_info": {
   "codemirror_mode": {
    "name": "ipython",
    "version": 3
   },
   "file_extension": ".py",
   "mimetype": "text/x-python",
   "name": "python",
   "nbconvert_exporter": "python",
   "pygments_lexer": "ipython3",
   "version": "3.6.5"
  }
 },
 "nbformat": 4,
 "nbformat_minor": 2
}
