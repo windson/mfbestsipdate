{
 "cells": [
  {
   "cell_type": "code",
   "execution_count": 1,
   "metadata": {},
   "outputs": [],
   "source": [
    "import pandas as pd\n",
    "import matplotlib.pyplot as plt\n",
    "%matplotlib inline\n",
    "from babel.numbers import format_currency"
   ]
  },
  {
   "cell_type": "code",
   "execution_count": 2,
   "metadata": {},
   "outputs": [],
   "source": [
    "def loadData(filepath):\n",
    "    cols = []\n",
    "    lst = []\n",
    "    with open(filepath) as fp:\n",
    "        for cnt, line in enumerate(fp):\n",
    "            line = line.strip()\n",
    "            props = line.split(';')\n",
    "            if len(props) > 1 :\n",
    "                #process\n",
    "                if cnt == 0:\n",
    "                    cols =  props\n",
    "                elif cnt == 1:\n",
    "                    print(props)\n",
    "                else:\n",
    "                    lst.append(props)\n",
    "\n",
    "    df = pd.DataFrame(lst, columns = cols)\n",
    "    return df"
   ]
  },
  {
   "cell_type": "code",
   "execution_count": 3,
   "metadata": {},
   "outputs": [],
   "source": [
    "def preprocessing(df,schemeCode):\n",
    "    df['Date'] =  pd.to_datetime(df['Date'], format='%d-%b-%Y')\n",
    "    df['Net Asset Value'] = pd.to_numeric(df['Net Asset Value'], errors='coerce')\n",
    "    df['Repurchase Price'] = pd.to_numeric(df['Repurchase Price'], errors='coerce')\n",
    "    df['Sale Price'] = pd.to_numeric(df['Sale Price'], errors='coerce')\n",
    "    df1 = df[df['Scheme Code']==schemeCode][['Net Asset Value','Date']]\n",
    "    #fill navs on weekends with the monday's nav. Other missing day's Nav such as holidays will be filled with the nav for the next available date\n",
    "    df1 = df1.set_index('Date').asfreq('d', method='bfill')\n",
    "    # Remove the first historical month if it's NAV is not available for all the 30 calendar days\n",
    "    df1.drop(df1[df1.index < df1[df1.index.day == 1].index[0]].index, inplace=True)\n",
    "    # Also remove the current month if it's NAV is not available for all the 30 calendar days\n",
    "    df1.drop(df1[df1.index > df1[df1.index.day == 30].index[-1]].index, inplace=True)\n",
    "    return df1"
   ]
  },
  {
   "cell_type": "code",
   "execution_count": 16,
   "metadata": {},
   "outputs": [],
   "source": [
    "def CAGR(L,F,Terms):\n",
    "    N = Terms/12\n",
    "    if N == 0:\n",
    "        return 0\n",
    "    return 100*((L/F)**(1/N)-1)"
   ]
  },
  {
   "cell_type": "code",
   "execution_count": 17,
   "metadata": {},
   "outputs": [],
   "source": [
    "def getReturnsByDateInvestedInSIP(data, sip=5000):\n",
    "    latestNav = data.loc[data.index == data.index.max(),'Net Asset Value'].iloc[0]\n",
    "    firstNav = data.loc[data.index == data.index.min(),'Net Asset Value'].iloc[0]\n",
    "    #for dates 1 through 30 collect units allotted and returns gained\n",
    "    sipdate_units = []\n",
    "    for day in range(1,31):\n",
    "        units = 0\n",
    "        dfvar = data[data.index.day == day]\n",
    "        terms = dfvar.shape[0]\n",
    "        for nav in dfvar['Net Asset Value']:\n",
    "            units = round(units + (sip / nav), 4)\n",
    "        \n",
    "        amtInvested = round(terms * sip,2)\n",
    "        returns = round(units*latestNav,4)\n",
    "        cagr = CAGR(returns,amtInvested, terms)\n",
    "        pct_absrets = round(100*(returns-amtInvested)/amtInvested,3)\n",
    "        avgNav = round(amtInvested/units,4)\n",
    "        sipdate_units.append({'SIP Date': day,\n",
    "                              'AvgNav': avgNav,\n",
    "                              'Units': units,\n",
    "                              'Terms': terms, \n",
    "                              'AmtInvsted': amtInvested,\n",
    "                              'AbsReturns': returns,\n",
    "                              'Percent': pct_absrets,\n",
    "                              'CAGR': '{0:.2f}'.format(cagr)})\n",
    "        \n",
    "    rets = pd.DataFrame(sipdate_units, columns=('SIP Date','AvgNav','Units', 'Terms', 'AmtInvsted', 'AbsReturns', 'Percent', 'CAGR')).reset_index(drop=True)\n",
    "    rets.index += 1    \n",
    "    return rets\n",
    "#print('Units {} with SIP of {} yeilded {}'.format(units, format_currency(sip, 'INR', locale = 'en_IN'), format_currency(units * latestNav, 'INR', locale='en_IN')))"
   ]
  },
  {
   "cell_type": "code",
   "execution_count": 18,
   "metadata": {},
   "outputs": [],
   "source": [
    "filepath = 'ppfas.txt'\n",
    "sip=10000\n",
    "years = [3, 5]\n",
    "df = loadData(filepath)\n",
    "schemeCodes = df['Scheme Code'].unique()\n",
    "for yr in years:\n",
    "    for schemeCode in schemeCodes:\n",
    "        df1 = preprocessing(df, schemeCode)\n",
    "        latestNav = df1.loc[df1.index == df1.index.max(),'Net Asset Value'].iloc[0]\n",
    "        firstNav = df1.loc[df1.index == df1.index.min(),'Net Asset Value'].iloc[0]\n",
    "        d = getReturnsByDateInvestedInSIP(df1,sip)\n",
    "        d.sort_values('CAGR',ascending =False).to_csv('output\\{}-{}.csv'.format(schemeCode,yr), index=False)\n",
    "        #d.sort_values('CAGR',ascending =False)"
   ]
  },
  {
   "cell_type": "code",
   "execution_count": null,
   "metadata": {},
   "outputs": [],
   "source": [
    "latestNav, firstNav"
   ]
  },
  {
   "cell_type": "code",
   "execution_count": null,
   "metadata": {},
   "outputs": [],
   "source": [
    "df1.tail()"
   ]
  },
  {
   "cell_type": "code",
   "execution_count": null,
   "metadata": {},
   "outputs": [],
   "source": [
    "#d = getReturnsByDateInvestedInSIP(df1,sip)"
   ]
  },
  {
   "cell_type": "code",
   "execution_count": null,
   "metadata": {},
   "outputs": [],
   "source": [
    "#d.sort_values('CAGR',ascending =False).to_csv('output\\{}.csv'.format(schemeCode), index=False)"
   ]
  },
  {
   "cell_type": "code",
   "execution_count": null,
   "metadata": {},
   "outputs": [],
   "source": [
    "#d[d['SIP Date'].isin([1,5,10,15,20,25])].sort_values('CAGR',ascending =False)"
   ]
  },
  {
   "cell_type": "code",
   "execution_count": null,
   "metadata": {},
   "outputs": [],
   "source": [
    "325000/19899.2350"
   ]
  },
  {
   "cell_type": "code",
   "execution_count": null,
   "metadata": {},
   "outputs": [],
   "source": [
    "(latestNav-16.3323)*39798.4703"
   ]
  },
  {
   "cell_type": "code",
   "execution_count": null,
   "metadata": {},
   "outputs": [],
   "source": [
    "929182.8458-650000"
   ]
  },
  {
   "cell_type": "code",
   "execution_count": null,
   "metadata": {},
   "outputs": [],
   "source": []
  }
 ],
 "metadata": {
  "kernelspec": {
   "display_name": "Python 3",
   "language": "python",
   "name": "python3"
  },
  "language_info": {
   "codemirror_mode": {
    "name": "ipython",
    "version": 3
   },
   "file_extension": ".py",
   "mimetype": "text/x-python",
   "name": "python",
   "nbconvert_exporter": "python",
   "pygments_lexer": "ipython3",
   "version": "3.6.5"
  }
 },
 "nbformat": 4,
 "nbformat_minor": 2
}
